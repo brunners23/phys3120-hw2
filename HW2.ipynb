{
 "cells": [
  {
   "cell_type": "markdown",
   "metadata": {},
   "source": [
    "# PHYS 3266: Homework 2, Seth Brunner"
   ]
  },
  {
   "cell_type": "code",
   "execution_count": 5,
   "metadata": {},
   "outputs": [],
   "source": [
    "#Imports for this pset\n",
    "import numpy as np\n",
    "\n",
    "# Function used through this pset. Checks if a string is a float\n",
    "# by trying to convert it to one.\n",
    "def is_float(s):\n",
    "    try:\n",
    "        float(s)\n",
    "        return True\n",
    "    except ValueError:\n",
    "        return False"
   ]
  },
  {
   "cell_type": "markdown",
   "metadata": {},
   "source": [
    "## Problem 1\n",
    "\n",
    "For this problem, we are given the following assumptions about a satellite orbiting the Earth\n",
    "* The orbit is a perfect circle\n",
    "* Earth is a perfect sphere\n",
    "* Earth can be treated as a point mass at its center of mass\n",
    "\n",
    "We are also given the equation\n",
    "\n",
    "$$h=\\left(\\frac{GMT^2}{4\\pi^2}\\right)^{1/3}-R$$\n",
    "\n",
    "Where $T$ is the period of the orbit in seconds, $h$ is the altitude of the orbit in meters, $R\\approx6371 \\, km$, $G\\approx6.67\\times10^{-11} \\,\\frac{m^3}{kg\\cdot s^2}$, and $M\\approx5.97\\times10^{24} \\, kg$."
   ]
  },
  {
   "cell_type": "markdown",
   "metadata": {},
   "source": [
    "### Part (a)"
   ]
  },
  {
   "cell_type": "code",
   "execution_count": 6,
   "metadata": {
    "collapsed": false,
    "jupyter": {
     "outputs_hidden": false
    }
   },
   "outputs": [
    {
     "name": "stdout",
     "output_type": "stream",
     "text": [
      "The desired altitude is 2.640e+07 meters\n"
     ]
    }
   ],
   "source": [
    "# Set up constants as specified above\n",
    "G=6.67e-11\n",
    "M=5.97e24\n",
    "R=6371e3\n",
    "\n",
    "# Define a function to return the altitude as a function\n",
    "# of the period, using the given equation\n",
    "def altitude(T):\n",
    "    return (G*M*T**2/(4*np.pi))**(1/3)-R\n",
    "\n",
    "# Ask the user for the period of the satellite, and\n",
    "# don't stop until they enter a number\n",
    "period=''\n",
    "\n",
    "while not is_float(period):\n",
    "    period = input(\"Enter the period of the satellite in seconds\")\n",
    "    if not is_float(period):\n",
    "        print(\"Enter a number >:(\")\n",
    "\n",
    "#Convert the string to a decimal\n",
    "period=float(period)\n",
    "\n",
    "\n",
    "# print the desired altitude\n",
    "# I would like to write a block of code to output a different\n",
    "# message if the altitude is negative, but I believe this\n",
    "# contradicts the intent of part b.\n",
    "print(\"The desired altitude is %.3e meters\" % altitude(period))"
   ]
  },
  {
   "cell_type": "markdown",
   "metadata": {},
   "source": [
    "### Part (b)"
   ]
  },
  {
   "cell_type": "code",
   "execution_count": null,
   "metadata": {
    "collapsed": false,
    "jupyter": {
     "outputs_hidden": false
    }
   },
   "outputs": [],
   "source": [
    "# Compute the following requested altitudes:\n",
    "print(\"24-hour altitude: %.3e m\" % altitude(24*60*60))\n",
    "print(\"90-minute altitude: %.3e m\" % altitude(90*60))\n",
    "print(\"45-minute altitude: %.3e m\" % altitude(45*60))"
   ]
  },
  {
   "cell_type": "markdown",
   "metadata": {},
   "source": [
    "From the last calculation, we see that it is impossible for a satellite to orbit the earth in 45 minutes. The earth is simply too big, and doesn't have a big enough gravitational pull, such that travelling this fast requires being below the surface of the earth. Of course, even if you could somehow phase through the earth and orbit at this altitude, it still wouldn't work, because the assumption that all of Earth's mass is located at its center would no longer be valid."
   ]
  },
  {
   "cell_type": "markdown",
   "metadata": {},
   "source": [
    "### Part (c)\n",
    "\n",
    "The reason a geosynchronous orbit is not exactly 24 hours is that the earth does not rotate at 24 hours per revolution. \n",
    "\n",
    "To explain this, note first that the earth orbits the sun counterclockwise, and rotates counterclockwise. Then, imagine an extremely exaggerated situation where it takes the earth 4 seconds to do a full revolution, whereas it takes 16 seconds to do a full rotation of the sun. Then, suppose at time $t=0$ seconds, we are standing at a point on the earth that faces the sun, which is to the earth's left (we are imagining this in a 2D coordinate system in the plane of the earth's orbit). At time $t=1$, we are now facing downwards, whereas the sun is down and to the left. At time $t=2$, we are facing rightwards, whereas the sun is down and to our left. At time $t=3$, we are facing upwards, whereas the sun is down and to our left, and at time $t=4$, we are facing rightwards again, whereas the sun is down. At this point, we have make a sidereal orbit, however, a day has not passed yet, as we have not faced the sun since $t=0$.\n",
    "\n",
    "Thus, we see that the amount of time it takes the earth to make a full orbit (which is what we care about for a geosynchronous orbit) is *less than* the actual length of a day, due to the orbit of the earth. Since the orbit of the earth is much less exaggerated than we presented in this example, the difference is not as obvious, but there is still a subtle difference.\n",
    "\n",
    "As for the actual altitude of the orbit, this will make a relatively small difference, since the relative change in the period is on the order of $10^{-3}$, meaning that it will cause a relative change in altitude on the order of about $10^{-2}$, which corresponds to a change of about $10^5$ meters."
   ]
  },
  {
   "cell_type": "markdown",
   "metadata": {},
   "source": [
    "## Problem 2\n",
    "\n",
    "In this problem, we are asked to consider a spaceship that is travelling away from Earth in a straight line, towards a planet $x$ lightyears away (measured in the reference frame of Earth). We are told than any time interval perceived by the spaceship is given by\n",
    "\n",
    "$$\\Delta t'=\\Delta t\\left(1-\\frac{v^2}{c^2}\\right)^{1/2}$$\n",
    "\n",
    "Where $\\Delta t'$ is a time interval on the spaceship, $\\Delta t$ is a time interval on Earth, $v$ is the velocity of the spaceship, and $c$ is the speed of light. "
   ]
  },
  {
   "cell_type": "code",
   "execution_count": null,
   "metadata": {
    "collapsed": false,
    "jupyter": {
     "outputs_hidden": false
    }
   },
   "outputs": [
    {
     "name": "stdout",
     "output_type": "stream",
     "text": [
      "The trip will take 9.90 years according to an Earth observer \n",
      "The trip will take 1.40 years according to a spaceship observer \n"
     ]
    }
   ],
   "source": [
    "# Declare the variables so that we don't get an error when we\n",
    "# check if they're floats\n",
    "x=''\n",
    "v=''\n",
    "\n",
    "# Continue to prompt the user until they enter a number for the length\n",
    "while not is_float(x):\n",
    "    x = input(\"Enter the distance from the planet in lightyears\")\n",
    "    if not is_float(x):\n",
    "        print(\"Enter a number >:(\")\n",
    "\n",
    "# Continue to prompt the user until they enter a number for the speed\n",
    "while not is_float(v):\n",
    "    v=input(\"Enter the speed as a fraction of the speed of light.\")\n",
    "    if not is_float(v):\n",
    "        print(\"Enter a number >:(\")\n",
    "    else:\n",
    "        # Make sure the speed is less than that of light, otherwise the\n",
    "        # Formula doesn't work.\n",
    "        vNum=float(v)\n",
    "        if not np.abs(vNum)<1:\n",
    "            print(\"Your spaceship is not going that fast.\")\n",
    "\n",
    "# Convert the strings to usable floats\n",
    "x=float(x)\n",
    "v=float(v)\n",
    "\n",
    "# Make the calculations. The units that we are given are very convenient\n",
    "# for computations.\n",
    "tEarth=x*v\n",
    "tSpaceship=tEarth*(1-v**2)**(1/2)\n",
    "\n",
    "print(\"The trip will take %.2f years according to an Earth observer \" % tEarth)\n",
    "print(\"The trip will take %.2f years according to a spaceship observer \" % tSpaceship)"
   ]
  },
  {
   "cell_type": "markdown",
   "metadata": {},
   "source": [
    "The outputs for $x=10$ lightyears and $v=0.99c$ are $9.90$ years according to an Earth observer, and $1.40$ years according to a space observer"
   ]
  },
  {
   "cell_type": "markdown",
   "metadata": {},
   "source": [
    "## Problem 3\n",
    "\n",
    "Given an atomic nucleus with atomic number $Z$ and mass number $A$, we are told that the binding energy $B$, expressed in $MeV$, can be computed via\n",
    "\n",
    "$$B=a_1A-a_2A^{2/3}-a_3\\frac{Z^2}{A^{1/3}}-a_4\\frac{(A-2Z)^2}A+\\frac{a_5}{A^{1/2}}$$\n",
    "\n",
    "Where $a_1=15.67 MeV$, $a_2=17.23 MeV$, $a_3=0.75$, $a_4=93.2$, and $a_5$ is given by\n",
    "\n",
    "$$a_5=\\begin{cases}0&A\\text{ is odd,}\\\\12.0\\text{ MeV}&A\\text{ and }Z\\text{ are both even,}\\\\-12.0\\text{ MeV}&A\\text{ is even and }Z\\text{ is odd.}\\end{cases}$$"
   ]
  }
 ],
 "metadata": {
  "kernelspec": {
   "display_name": "Python 3",
   "language": "python",
   "name": "python3"
  },
  "language_info": {
   "codemirror_mode": {
    "name": "ipython",
    "version": 3
   },
   "file_extension": ".py",
   "mimetype": "text/x-python",
   "name": "python",
   "nbconvert_exporter": "python",
   "pygments_lexer": "ipython3",
   "version": "3.13.1"
  }
 },
 "nbformat": 4,
 "nbformat_minor": 4
}
